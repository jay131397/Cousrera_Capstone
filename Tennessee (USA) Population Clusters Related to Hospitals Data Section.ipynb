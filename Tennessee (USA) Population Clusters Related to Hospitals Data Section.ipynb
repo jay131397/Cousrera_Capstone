{
 "cells": [
  {
   "cell_type": "markdown",
   "metadata": {},
   "source": [
    "# Tennessee (USA) Population clusters related to Hospitals\n"
   ]
  },
  {
   "cell_type": "markdown",
   "metadata": {},
   "source": [
    "## Data\n",
    "### The following data sources will be used for display and calculation purposes:\n",
    "1. Tennessee(TN) hospitals: https://www.ahd.com/states/hospital_TN.html\n",
    "        a. Lists hospitals by Tennesse cities.\n",
    "        b. Contains number of beds and revenue in thousands\n",
    "2. TN Citys and Countys: https://en.wikipedia.org/wiki/List_of_municipalities_in_Tennessee\n",
    "        a. Used to tie the hospital list which is by city to counties.\n",
    "        b. Contains city population data.\n",
    "        c. Contains a region category.\n",
    "3. TN County populations with income: https://en.wikipedia.org/wiki/List_of_Tennessee_locations_by_per_capita_income\n",
    "        a. Used to tie county dempgraphics back to the hospital.\n",
    "        b. Contains per capita and household income.\n",
    "        c. Contains county population and the number of county households.\n",
    "4. Foursquare developer access for hospital information https://developer.foursquare.com\n",
    "        a. Used to determine the location of the hospital.\n",
    "        b. Used to list services provided.\n",
    "\n",
    "Merging data from the first 3 items will allow us to relate cities with hospitals to various cities and counties in Tennessee."
   ]
  },
  {
   "cell_type": "code",
   "execution_count": null,
   "metadata": {},
   "outputs": [],
   "source": []
  }
 ],
 "metadata": {
  "kernelspec": {
   "display_name": "Python 3",
   "language": "python",
   "name": "python3"
  },
  "language_info": {
   "codemirror_mode": {
    "name": "ipython",
    "version": 3
   },
   "file_extension": ".py",
   "mimetype": "text/x-python",
   "name": "python",
   "nbconvert_exporter": "python",
   "pygments_lexer": "ipython3",
   "version": "3.8.3"
  }
 },
 "nbformat": 4,
 "nbformat_minor": 4
}
