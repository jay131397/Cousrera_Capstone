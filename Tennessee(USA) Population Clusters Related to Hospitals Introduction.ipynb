{
 "cells": [
  {
   "cell_type": "markdown",
   "metadata": {},
   "source": [
    "# Tennessee (USA) Population clusters related to Hospitals\n"
   ]
  },
  {
   "cell_type": "markdown",
   "metadata": {},
   "source": [
    "## Introduction\n",
    "\n",
    "Hospitals provide important first line healthcare services to indiviuals in distress. The services that hospitals provide are often taken for granted in highly populated or affluent areas.  \n",
    "\n",
    "The hope of this project is to visually answer:\n",
    "\n",
    " 1. Is a hospital in the vicinity?\n",
    " 2. Is there a hospital \"desert\" in the region?\n",
    " 3. Is there a correlation between population and the number of health care facilities in an area?\n",
    " 4. Is there a correlation between income and the number of health care facilities in an area?\n",
    " \n",
    "### Business Problem\n",
    "While healthcare may be considered a \"right\", there is no guarantee that you will have immediate access to it. Having a hospital in your community isn't a given, but knowledge of nearby medical facilites will better prepare governments, businesses, and individuals to make informed descisions that affect quality of life.\n",
    "\n",
    "### Target Audience\n",
    "1. City and county leaders are competing with each other to lure businesses and people to their communities. Not having a nearby hospital might limit interested entities.\n",
    "2. Public health officals need to be aware of hospital deserts so that EMS services can be planned appropriately.\n",
    "3. Tennessee is home to 3 of the top 6 largest USA hospital providers. Is there good business potential for one of these corporations in an area?\n",
    "4. Individuals living in or wishing to move into a rural area of Tennessee.\n",
    "\n",
    "\n",
    "\n",
    "\n",
    "\n",
    "\n",
    "\n",
    "\n",
    " \n",
    " \n",
    "\n"
   ]
  },
  {
   "cell_type": "code",
   "execution_count": null,
   "metadata": {},
   "outputs": [],
   "source": []
  }
 ],
 "metadata": {
  "kernelspec": {
   "display_name": "Python 3",
   "language": "python",
   "name": "python3"
  },
  "language_info": {
   "codemirror_mode": {
    "name": "ipython",
    "version": 3
   },
   "file_extension": ".py",
   "mimetype": "text/x-python",
   "name": "python",
   "nbconvert_exporter": "python",
   "pygments_lexer": "ipython3",
   "version": "3.8.3"
  }
 },
 "nbformat": 4,
 "nbformat_minor": 4
}
