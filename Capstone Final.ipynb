{
 "cells": [
  {
   "cell_type": "markdown",
   "metadata": {},
   "source": [
    "# Is there a rural hospital shortage in TN?\n",
    "### Hospitals are big business in TN. As of 2019, 3 of the top 6 largest USA health systems are headquartered in TN (HCA, CHS, LifePoint Health), and yet there are news reports of hospitals in rural areas of Tennessee closing and leaving communities without a medical facility.\n",
    "### Null Hypothesis: There is a shortage of hospitals in rural Tennessee.\n",
    "\n",
    "\n"
   ]
  },
  {
   "cell_type": "code",
   "execution_count": null,
   "metadata": {},
   "outputs": [],
   "source": [
    "import requests # library to handle requests\n",
    "import pandas as pd # library for data analsysis\n",
    "import numpy as np # library to handle data in a vectorized manner\n",
    "import random # library for random number generation\n",
    "from bs4 import BeautifulSoup\n",
    "\n",
    "#!pip install geopy\n",
    "from geopy.geocoders import Nominatim # module to convert an address into latitude and longitude values\n",
    "\n",
    "# libraries for displaying images\n",
    "from IPython.display import Image \n",
    "from IPython.core.display import HTML \n",
    "    \n",
    "# tranforming json file into a pandas dataframe library\n",
    "from pandas.io.json import json_normalize\n",
    "import json\n",
    "\n",
    "#! pip install folium==0.5.0\n",
    "import folium # plotting library\n",
    "import time\n",
    "print('Folium installed')\n",
    "print('Libraries imported.')\n",
    "import time\n",
    "import matplotlib.pyplot as plt\n",
    "import pylab as pl\n",
    "import seaborn as sns"
   ]
  },
  {
   "cell_type": "markdown",
   "metadata": {},
   "source": [
    "## Get a list of Tennessee hospitals\n",
    "1. Read the webpage \n",
    "2. Use Beautiful Soup to parse the HTML\n",
    "3. Pull the table data\n",
    "4. Display the data to be sure we have what we need"
   ]
  },
  {
   "cell_type": "code",
   "execution_count": null,
   "metadata": {},
   "outputs": [],
   "source": [
    "# The webiste would not allow me to connect via code, so I had to download the webpage\n",
    "# The list is provided by the Tennessee Department of Safety and HomeLand Security\n",
    "url='C:/Capstone/Health_Services_TN.csv'\n",
    "dfhospital = pd.DataFrame\n",
    "dfhospital = pd.read_csv(url)\n",
    "dfhospital.head()"
   ]
  },
  {
   "cell_type": "markdown",
   "metadata": {},
   "source": [
    "## Get a list of Tennesse cities with their  population\n"
   ]
  },
  {
   "cell_type": "code",
   "execution_count": null,
   "metadata": {},
   "outputs": [],
   "source": [
    "# List from Wikipedia\n",
    "urlcity='https://en.wikipedia.org/wiki/List_of_municipalities_in_Tennessee'\n",
    "source = requests.get(urlcity).text\n",
    "soup=BeautifulSoup(source,'lxml')\n",
    "\n",
    "from IPython.display import display_html\n",
    "tab = str(soup.table)\n",
    "#display_html(tab,raw=True)\n",
    "\n",
    "dfs1 = pd.read_html(tab)\n",
    "dfcity =dfs1[0]\n",
    "dfcity.columns=['City','County','Population','Area','Charter','Idate','Region']\n",
    "dfcity.drop(['Charter','Area','Idate'],axis=1, inplace=True)\n",
    "dfcity.head(5)"
   ]
  },
  {
   "cell_type": "code",
   "execution_count": null,
   "metadata": {},
   "outputs": [],
   "source": [
    "\n",
    "dfhospital.shape\n"
   ]
  },
  {
   "cell_type": "markdown",
   "metadata": {},
   "source": [
    "## Map hospitals"
   ]
  },
  {
   "cell_type": "code",
   "execution_count": null,
   "metadata": {},
   "outputs": [],
   "source": [
    "tnlatitude= 35.5175\n",
    "tnlongitude = -86.5804\n",
    "map_tn = folium.Map(location=[tnlatitude, tnlongitude], zoom_start=11)\n",
    "\n",
    "# add markers to map\n",
    "\n",
    "for lat, lng, name, city in zip(dfhospital['Latitude'], dfhospital['Longitude'],dfhospital['HospitalName'],dfhospital['City']):\n",
    "    label = '{}, {}'.format(name, city)\n",
    "    label = folium.Popup(label, parse_html=True)\n",
    "    folium.CircleMarker(\n",
    "        [lat, lng],\n",
    "        radius=5,\n",
    "        popup=label,\n",
    "        color='blue',\n",
    "        fill=True,\n",
    "        fill_color='#3186cc',\n",
    "        fill_opacity=0.7,\n",
    "        parse_html=False).add_to(map_tn)  \n",
    "map_tn"
   ]
  },
  {
   "cell_type": "code",
   "execution_count": null,
   "metadata": {},
   "outputs": [],
   "source": [
    "urlcounty='https://en.wikipedia.org/wiki/List_of_Tennessee_locations_by_per_capita_income'\n",
    "source = requests.get(urlcounty).text\n",
    "soup=BeautifulSoup(source,'lxml')\n",
    "\n",
    "from IPython.display import display_html\n",
    "tab = str(soup.table)\n",
    "#display_html(tab,raw=True)\n",
    "\n",
    "dfs2 = pd.read_html(tab)\n",
    "dfcounty =dfs2[0]\n",
    "dfcounty.columns=['Rank','County','Per_Cap_Income','Median_House_Income','Median_Family_Income','Population','Households']\n",
    "# Tennessee and United States are in the data, so we need to drop them from the list\n",
    "# dfcounty.dropna(subset=['Rank'],inplace=True)\n",
    "dfcounty= dfcounty[dfcounty['Rank'].notna()]\n",
    "\n",
    "\n",
    "dfcounty.head()\n",
    "# Convert to number\n",
    "\n",
    "dfcounty['Per_Cap_Income']=dfcounty['Per_Cap_Income'].str.replace('$','').str.replace(',','').astype(float)\n",
    "dfcounty['Median_House_Income']=dfcounty['Median_House_Income'].str.replace('$','').str.replace(',','').astype(float)\n",
    "dfcounty['Median_Family_Income']=dfcounty['Median_Family_Income'].str.replace('$','').str.replace(',','').astype(float)\n",
    "dfcounty\n"
   ]
  },
  {
   "cell_type": "code",
   "execution_count": null,
   "metadata": {},
   "outputs": [],
   "source": [
    "df=pd.merge(dfcounty,dfhospital, on='County',how='left')"
   ]
  },
  {
   "cell_type": "code",
   "execution_count": null,
   "metadata": {},
   "outputs": [],
   "source": [
    "\n",
    "df.head()"
   ]
  },
  {
   "cell_type": "code",
   "execution_count": null,
   "metadata": {},
   "outputs": [],
   "source": [
    "#Drop some columns\n",
    "df = df.drop(['X','Y','HospitalID','Expr1','EPCPhone','ESRI_OID'],axis=1)"
   ]
  },
  {
   "cell_type": "code",
   "execution_count": null,
   "metadata": {},
   "outputs": [],
   "source": [
    "#Drop some more columns\n",
    "df=df.drop(['RadioCode1','EPC','ebola_ttx','GlobalID','NDMSFacility','DMATTeamSite','RadioCode1'],axis=1)"
   ]
  },
  {
   "cell_type": "code",
   "execution_count": null,
   "metadata": {
    "scrolled": true
   },
   "outputs": [],
   "source": [
    "# Get USA county json\n",
    "#From Census.gov\n",
    "with open('c:/Capstone/TNCounties.json') as usa:\n",
    "    data=usa.read()\n",
    "    \n",
    "\n",
    "usa_geo = json.loads(data)\n",
    "tn_geo = usa_geo\n",
    "print ('Download complete')\n",
    "\n",
    "\n"
   ]
  },
  {
   "cell_type": "code",
   "execution_count": null,
   "metadata": {},
   "outputs": [],
   "source": [
    "df.head()"
   ]
  },
  {
   "cell_type": "code",
   "execution_count": null,
   "metadata": {},
   "outputs": [],
   "source": [
    "#Is County rural or not based on US Department of Agriculture Rural-Urban Continuum Code.\n",
    "url='C:/Capstone/ruralurbancodes2013.xls'\n",
    "dfrural = pd.DataFrame\n",
    "dfrural = pd.read_excel(url)\n",
    "#Filter for TN\n",
    "dftnco=dfrural[dfrural[\"State\"]=='TN']\n",
    "dftnco.rename(columns ={\"County_Name\":\"County\",\"RUCC_2013\":\"RUCC\"},inplace=True)\n",
    "dftnco.head()"
   ]
  },
  {
   "cell_type": "markdown",
   "metadata": {},
   "source": [
    "# County map with hospitals based upon county population"
   ]
  },
  {
   "cell_type": "code",
   "execution_count": null,
   "metadata": {},
   "outputs": [],
   "source": [
    "df1=pd.merge(dfcounty,dfhospital, on='County',how='left')\n",
    "dfco=pd.merge(df1,dftnco, on='County',how='left')"
   ]
  },
  {
   "cell_type": "code",
   "execution_count": null,
   "metadata": {},
   "outputs": [],
   "source": [
    "#An Expr1==0 means no hospial in the county. Expr1==1 means a hospital is in the county\n",
    "dfco[\"X\"]= dfco[\"X\"].fillna(0)\n",
    "dfco[\"Y\"]= dfco[\"Y\"].fillna(0)\n",
    "dfco = dfco.replace(np.nan,'',regex=True)\n",
    "#dfco.drop(['HospitalID','Status','Factype','FacilityType','Address3','RegionType','NDMSFacility','DMATTeamSite'],axis=1, inplace=True)\n",
    "#dfco.drop(['RadioCode1','EPC','EPCPhone','ESRI_OID','ebola_ttx','GlobalID'],axis=1, inplace=True)\n",
    "dfco.head()"
   ]
  },
  {
   "cell_type": "code",
   "execution_count": null,
   "metadata": {},
   "outputs": [],
   "source": [
    "dfco['Hospital']=np.where(dfco[\"Expr1\"]==1,True,False)\n",
    "dfcon = dfco.filter(['Hospital','County','Per_Cap_Income','Median_House_Income','Median_Family_Income','Population','RUCC'])\n",
    "dfcon=dfcon.drop_duplicates(subset=['County'])\n",
    "dfcon.head()"
   ]
  },
  {
   "cell_type": "code",
   "execution_count": null,
   "metadata": {},
   "outputs": [],
   "source": [
    "dfcon.describe()"
   ]
  },
  {
   "cell_type": "code",
   "execution_count": null,
   "metadata": {},
   "outputs": [],
   "source": [
    "dfwith=dfcon[dfcon['Hospital']==True]\n",
    "dfwith.describe()"
   ]
  },
  {
   "cell_type": "code",
   "execution_count": null,
   "metadata": {},
   "outputs": [],
   "source": [
    "dfwithout=dfcon[dfcon['Hospital']==False]\n",
    "dfwithout.describe()"
   ]
  },
  {
   "cell_type": "code",
   "execution_count": null,
   "metadata": {},
   "outputs": [],
   "source": [
    "dfcon.sort_values(by=['County'])\n",
    "dfcon.shape                   "
   ]
  },
  {
   "cell_type": "code",
   "execution_count": null,
   "metadata": {},
   "outputs": [],
   "source": [
    "#Pouplation seems to correspond to not having a hospital\n",
    "sns.boxplot(x=\"Hospital\",y=\"Population\",data=dfcon)"
   ]
  },
  {
   "cell_type": "markdown",
   "metadata": {},
   "source": [
    "# RUCC Code\n",
    "### 9 - Nonmetro - Completely rural or less than 2,500 urban population, not adjacent to a metro area                                                                                                           \n",
    "### 8 - Nonmetro - Completely rural or less than 2,500 urban population, adjacent to a metro area                                   \n",
    "                                                                                                          \n",
    "### 7 - Nonmetro - Urban population of 2,500 to 19,999, not adjacent to a metro area                                                                                                                                                                     \n",
    "### 6 - Nonmetro - Urban population of 2,500 to 19,999, adjacent to a metro area                                                                                                                                                                            \n",
    "### 5- Nonmetro - Urban population of 20,000 or more, adjacent to a metro area                                                                                                                                 \n",
    "### 4- Nonmetro - Urban population of 20,000 or more, adjacent to a metro area                                                                                                                                 \n",
    "### 3 - Metro - Counties in metro areas                                                                                                                            \n",
    "                                                                                                                     \n"
   ]
  },
  {
   "cell_type": "code",
   "execution_count": null,
   "metadata": {},
   "outputs": [],
   "source": [
    "# An RUCC of 3 signifies large metro areas\n",
    "sns.boxplot(x=\"Hospital\",y=\"RUCC\",data=dfcon)"
   ]
  },
  {
   "cell_type": "code",
   "execution_count": null,
   "metadata": {},
   "outputs": [],
   "source": [
    "sns.boxplot(x=\"Hospital\",y=\"Per_Cap_Income\",data=dfcon)"
   ]
  },
  {
   "cell_type": "code",
   "execution_count": null,
   "metadata": {},
   "outputs": [],
   "source": [
    "sns.boxplot(x=\"Hospital\",y=\"Median_House_Income\",data=dfcon)"
   ]
  },
  {
   "cell_type": "code",
   "execution_count": null,
   "metadata": {},
   "outputs": [],
   "source": [
    "from scipy import stats\n",
    "pearson_coef, p_value = stats.pearsonr(dfcon['Population'], dfcon['Hospital'])\n",
    "\n",
    "print(\"The Pearson Correlation Coefficient of Population is\", pearson_coef, \" with a P-value of P =\", p_value)  "
   ]
  },
  {
   "cell_type": "code",
   "execution_count": null,
   "metadata": {},
   "outputs": [],
   "source": [
    "pearson_coef, p_value = stats.pearsonr(dfcon['Per_Cap_Income'], dfcon['Hospital'])\n",
    "\n",
    "print(\"The Pearson Correlation Coefficient of Per Capita Income is\", pearson_coef, \" with a P-value of P =\", p_value)  "
   ]
  },
  {
   "cell_type": "code",
   "execution_count": null,
   "metadata": {},
   "outputs": [],
   "source": [
    "pearson_coef, p_value = stats.pearsonr(dfcon['RUCC'], dfcon['Hospital'])\n",
    "\n",
    "print(\"The Pearson Correlation Coefficient of Rural Code is\", pearson_coef, \" with a P-value of P =\", p_value)  "
   ]
  },
  {
   "cell_type": "code",
   "execution_count": null,
   "metadata": {},
   "outputs": [],
   "source": [
    "pearson_coef, p_value = stats.pearsonr(dfcon['Median_House_Income'], dfcon['Hospital'])\n",
    "\n",
    "print(\"The Pearson Correlation Coefficient of Median Household Income is\", pearson_coef, \" with a P-value of P =\", p_value)  "
   ]
  },
  {
   "cell_type": "code",
   "execution_count": null,
   "metadata": {},
   "outputs": [],
   "source": [
    "dfcon.describe()"
   ]
  },
  {
   "cell_type": "code",
   "execution_count": null,
   "metadata": {},
   "outputs": [],
   "source": [
    "#ANOVA\n",
    "grouped_test2=dfcon[['Hospital','RUCC', 'Per_Cap_Income','Median_House_Income','Population']].groupby(['Hospital'])\n",
    "grouped_test2.describe()\n",
    "# ANOVA\n",
    "f_val, p_val = stats.f_oneway(grouped_test2.get_group(False)['RUCC'], grouped_test2.get_group(True)['RUCC'])  \n",
    " \n",
    "print( \"ANOVA results for RUCC: F=\", f_val, \", P =\", p_val)   "
   ]
  },
  {
   "cell_type": "code",
   "execution_count": null,
   "metadata": {},
   "outputs": [],
   "source": [
    "f_val, p_val = stats.f_oneway(grouped_test2.get_group(False)['Population'], grouped_test2.get_group(True)['Population'])  \n",
    " \n",
    "print( \"ANOVA results for Population: F=\", f_val, \", P =\", p_val)   "
   ]
  },
  {
   "cell_type": "code",
   "execution_count": null,
   "metadata": {},
   "outputs": [],
   "source": [
    "f_val, p_val = stats.f_oneway(grouped_test2.get_group(False)['Median_House_Income'], grouped_test2.get_group(True)['Median_House_Income'])  \n",
    " \n",
    "print( \"ANOVA results for Median Household Income: F=\", f_val, \", P =\", p_val)   "
   ]
  },
  {
   "cell_type": "code",
   "execution_count": null,
   "metadata": {},
   "outputs": [],
   "source": [
    "plt.figure(figsize=(8,5))\n",
    "x_data, y_data = (dfcon[\"RUCC\"].values, dfcon[\"Population\"].values)\n",
    "plt.plot(x_data, y_data, 'ro')\n",
    "plt.ylabel('Population')\n",
    "plt.xlabel('RUCC')\n",
    "plt.show()"
   ]
  },
  {
   "cell_type": "code",
   "execution_count": null,
   "metadata": {
    "scrolled": true
   },
   "outputs": [],
   "source": [
    "\n",
    "tn_map = folium.Map(location=[tnlatitude,tnlongitude], zoom_start=7)\n",
    "# generate choropleth map using the population of each TN county\n",
    " \n",
    "tn_map.choropleth(\n",
    "    geo_data=tn_geo,\n",
    "    data=dfcounty,\n",
    "    columns=['County','Population'],\n",
    "    key_on='feature.properties.NAME',\n",
    "    threshold_scale=[15000,100000,200000,400000,1000000],\n",
    "    fill_color='YlOrRd', \n",
    "    fill_opacity=0.7, \n",
    "    line_opacity=0.2,\n",
    "    legend_name='TN County Population'\n",
    ")\n",
    "for lat, lng, name, city in zip(dfhospital['Latitude'], dfhospital['Longitude'],dfhospital['HospitalName'],dfhospital['City']):\n",
    "    label = '{}, {}'.format(name, city)\n",
    "    label = folium.Popup(label, parse_html=True)\n",
    "    folium.CircleMarker(\n",
    "        [lat, lng],\n",
    "        radius=5,\n",
    "        popup=label,\n",
    "        color='blue',\n",
    "        fill=True,\n",
    "        fill_color='#3186cc',\n",
    "        fill_opacity=0.7,\n",
    "        parse_html=False).add_to(tn_map) \n",
    "\n",
    "# display map\n",
    "tn_map"
   ]
  },
  {
   "cell_type": "code",
   "execution_count": null,
   "metadata": {},
   "outputs": [],
   "source": [
    "tn_map = folium.Map(location=[tnlatitude,tnlongitude], zoom_start=7)\n",
    "# generate choropleth map using the population of each TN county\n",
    " \n",
    "tn_map.choropleth(\n",
    "    geo_data=tn_geo,\n",
    "    data=dfcounty,\n",
    "    columns=['County','Median_House_Income'],\n",
    "    key_on='feature.properties.NAME',\n",
    "    threshold_scale=[15000,30000,40000,100000],\n",
    "    fill_color='YlOrRd', \n",
    "    fill_opacity=0.7, \n",
    "    line_opacity=0.2,\n",
    "    legend_name='TN County Median Household Income'\n",
    ")\n",
    "for lat, lng, name, city in zip(dfhospital['Latitude'], dfhospital['Longitude'],dfhospital['HospitalName'],dfhospital['City']):\n",
    "    label = '{}, {}'.format(name, city)\n",
    "    label = folium.Popup(label, parse_html=True)\n",
    "    folium.CircleMarker(\n",
    "        [lat, lng],\n",
    "        radius=5,\n",
    "        popup=label,\n",
    "        color='blue',\n",
    "        fill=True,\n",
    "        fill_color='#3186cc',\n",
    "        fill_opacity=0.7,\n",
    "        parse_html=False).add_to(tn_map) \n",
    "\n",
    "# display map\n",
    "tn_map"
   ]
  },
  {
   "cell_type": "code",
   "execution_count": null,
   "metadata": {},
   "outputs": [],
   "source": []
  },
  {
   "cell_type": "code",
   "execution_count": null,
   "metadata": {
    "scrolled": true
   },
   "outputs": [],
   "source": [
    "#We only need TN counties\n",
    "dfrural = dfrural[dfrural['State']=='TN']\n",
    "dfrural.head(10)"
   ]
  },
  {
   "cell_type": "markdown",
   "metadata": {},
   "source": [
    "# The USDA provides a classification of counties.\n",
    "## A category code <=3 is consider an urban area.\n",
    "## A category code of 8 or 9 represents rural areas that may or may not be adjacent to metro areas"
   ]
  },
  {
   "cell_type": "code",
   "execution_count": null,
   "metadata": {},
   "outputs": [],
   "source": [
    "tn_map2 = folium.Map(location=[tnlatitude,tnlongitude], zoom_start=7)\n",
    "# generate choropleth map using the population of each TN county\n",
    " \n",
    "tn_map2.choropleth(\n",
    "    geo_data=tn_geo,\n",
    "    data=dfrural,\n",
    "    columns=['County_Name','RUCC_2013'],\n",
    "    key_on='feature.properties.NAME',\n",
    "    #threshold_scale=[3,4,6,7,8,9],\n",
    "    \n",
    "    fill_color='YlOrRd', \n",
    "    fill_opacity=0.7, \n",
    "    line_opacity=0.2,\n",
    "    legend_name='TN Urban to Rural Categorization'\n",
    ")\n",
    "for lat, lng, name, city in zip(dfhospital['Latitude'], dfhospital['Longitude'],dfhospital['HospitalName'],dfhospital['City']):\n",
    "    label = '{}, {}'.format(name, city)\n",
    "    label = folium.Popup(label, parse_html=True)\n",
    "    folium.CircleMarker(\n",
    "        [lat, lng],\n",
    "        radius=5,\n",
    "        popup=label,\n",
    "        color='blue',\n",
    "        fill=True,\n",
    "        fill_color='#3186cc',\n",
    "        fill_opacity=0.7,\n",
    "        parse_html=False).add_to(tn_map2) \n",
    "\n",
    "# display map\n",
    "tn_map2"
   ]
  },
  {
   "cell_type": "code",
   "execution_count": null,
   "metadata": {},
   "outputs": [],
   "source": []
  },
  {
   "cell_type": "markdown",
   "metadata": {},
   "source": [
    "# The above maps would indicate that rural/ low population counties do have a lack of hospitals. No Tennesse county that is classified as rural and not adjacent to a metro area has a hospital located in it."
   ]
  },
  {
   "cell_type": "code",
   "execution_count": null,
   "metadata": {},
   "outputs": [],
   "source": [
    "dfcon.head()"
   ]
  },
  {
   "cell_type": "markdown",
   "metadata": {},
   "source": [
    "## Logistic regression"
   ]
  },
  {
   "cell_type": "code",
   "execution_count": null,
   "metadata": {},
   "outputs": [],
   "source": [
    "dfcon1 = dfcon[['Hospital','Per_Cap_Income','Median_House_Income','Population','RUCC']]\n",
    "dfcon1['Hospital'] = dfcon1['Hospital'].astype('int')\n",
    "dfcon1.head()"
   ]
  },
  {
   "cell_type": "code",
   "execution_count": null,
   "metadata": {},
   "outputs": [],
   "source": [
    "X = np.asarray(dfcon1[['RUCC']])\n",
    "#X = np.asarray(dfcon1[['Per_Cap_Income','Median_House_Income','Population','RUCC']])\n",
    "y = np.asarray(dfcon1['Hospital'])\n",
    "from sklearn import preprocessing\n",
    "X = preprocessing.StandardScaler().fit(X).transform(X)\n",
    "X[0:5]"
   ]
  },
  {
   "cell_type": "code",
   "execution_count": null,
   "metadata": {},
   "outputs": [],
   "source": [
    "from sklearn.model_selection import train_test_split\n",
    "X_train, X_test, y_train, y_test = train_test_split( X, y, test_size=0.2, random_state=4)\n",
    "print ('Train set:', X_train.shape,  y_train.shape)\n",
    "print ('Test set:', X_test.shape,  y_test.shape)"
   ]
  },
  {
   "cell_type": "code",
   "execution_count": null,
   "metadata": {},
   "outputs": [],
   "source": [
    "from sklearn.linear_model import LogisticRegression\n",
    "from sklearn.metrics import confusion_matrix\n",
    "LR = LogisticRegression(C=0.01, solver='liblinear').fit(X_train,y_train)\n",
    "yhat = LR.predict(X_test)\n",
    "yhat"
   ]
  },
  {
   "cell_type": "code",
   "execution_count": null,
   "metadata": {},
   "outputs": [],
   "source": [
    "yhat_prob = LR.predict_proba(X_test)\n",
    "yhat_prob"
   ]
  },
  {
   "cell_type": "code",
   "execution_count": null,
   "metadata": {},
   "outputs": [],
   "source": [
    "from sklearn.metrics import jaccard_score\n",
    "jaccard_score(y_test, yhat,pos_label=0)"
   ]
  },
  {
   "cell_type": "code",
   "execution_count": null,
   "metadata": {},
   "outputs": [],
   "source": [
    "from sklearn.metrics import classification_report, confusion_matrix\n",
    "import itertools\n",
    "def plot_confusion_matrix(cm, classes,\n",
    "                          normalize=False,\n",
    "                          title='Confusion matrix',\n",
    "                          cmap=plt.cm.Blues):\n",
    "    \"\"\"\n",
    "    This function prints and plots the confusion matrix.\n",
    "    Normalization can be applied by setting `normalize=True`.\n",
    "    \"\"\"\n",
    "    if normalize:\n",
    "        cm = cm.astype('float') / cm.sum(axis=1)[:, np.newaxis]\n",
    "        print(\"Normalized confusion matrix\")\n",
    "    else:\n",
    "        print('Confusion matrix, without normalization')\n",
    "\n",
    "    print(cm)\n",
    "\n",
    "    plt.imshow(cm, interpolation='nearest', cmap=cmap)\n",
    "    plt.title(title)\n",
    "    plt.colorbar()\n",
    "    tick_marks = np.arange(len(classes))\n",
    "    plt.xticks(tick_marks, classes, rotation=45)\n",
    "    plt.yticks(tick_marks, classes)\n",
    "\n",
    "    fmt = '.2f' if normalize else 'd'\n",
    "    thresh = cm.max() / 2.\n",
    "    for i, j in itertools.product(range(cm.shape[0]), range(cm.shape[1])):\n",
    "        plt.text(j, i, format(cm[i, j], fmt),\n",
    "                 horizontalalignment=\"center\",\n",
    "                 color=\"white\" if cm[i, j] > thresh else \"black\")\n",
    "\n",
    "    plt.tight_layout()\n",
    "    plt.ylabel('True label')\n",
    "    plt.xlabel('Predicted label')\n",
    "print(confusion_matrix(y_test, yhat, labels=[1,0]))"
   ]
  },
  {
   "cell_type": "code",
   "execution_count": null,
   "metadata": {},
   "outputs": [],
   "source": [
    "cnf_matrix = confusion_matrix(y_test, yhat, labels=[1,0])\n",
    "np.set_printoptions(precision=2)\n",
    "\n",
    "\n",
    "# Plot non-normalized confusion matrix\n",
    "plt.figure()\n",
    "plot_confusion_matrix(cnf_matrix, classes=['Hospital=1','Hospital=0'],normalize= False,  title='Confusion matrix')"
   ]
  },
  {
   "cell_type": "code",
   "execution_count": null,
   "metadata": {},
   "outputs": [],
   "source": [
    "print (classification_report(y_test, yhat))"
   ]
  },
  {
   "cell_type": "markdown",
   "metadata": {},
   "source": [
    "## SVC"
   ]
  },
  {
   "cell_type": "code",
   "execution_count": null,
   "metadata": {},
   "outputs": [],
   "source": [
    "from sklearn.metrics import log_loss\n",
    "log_loss(y_test, yhat_prob)"
   ]
  },
  {
   "cell_type": "code",
   "execution_count": null,
   "metadata": {},
   "outputs": [],
   "source": [
    "from sklearn import svm\n",
    "clf = svm.SVC(kernel='rbf')\n",
    "clf.fit(X_train, y_train) \n",
    "yhat = clf.predict(X_test)\n",
    "yhat [0:5]\n",
    "from sklearn.metrics import classification_report, confusion_matrix\n",
    "import itertools\n",
    "def plot_confusion_matrix(cm, classes,\n",
    "                          normalize=False,\n",
    "                          title='Confusion matrix',\n",
    "                          cmap=plt.cm.Blues):\n",
    "    \"\"\"\n",
    "    This function prints and plots the confusion matrix.\n",
    "    Normalization can be applied by setting `normalize=True`.\n",
    "    \"\"\"\n",
    "    if normalize:\n",
    "        cm = cm.astype('float') / cm.sum(axis=1)[:, np.newaxis]\n",
    "        print(\"Normalized confusion matrix\")\n",
    "    else:\n",
    "        print('Confusion matrix, without normalization')\n",
    "\n",
    "    print(cm)\n",
    "\n",
    "    plt.imshow(cm, interpolation='nearest', cmap=cmap)\n",
    "    plt.title(title)\n",
    "    plt.colorbar()\n",
    "    tick_marks = np.arange(len(classes))\n",
    "    plt.xticks(tick_marks, classes, rotation=45)\n",
    "    plt.yticks(tick_marks, classes)\n",
    "\n",
    "    fmt = '.2f' if normalize else 'd'\n",
    "    thresh = cm.max() / 2.\n",
    "    for i, j in itertools.product(range(cm.shape[0]), range(cm.shape[1])):\n",
    "        plt.text(j, i, format(cm[i, j], fmt),\n",
    "                 horizontalalignment=\"center\",\n",
    "                 color=\"white\" if cm[i, j] > thresh else \"black\")\n",
    "\n",
    "    plt.tight_layout()\n",
    "    plt.ylabel('True label')\n",
    "    plt.xlabel('Predicted label')\n",
    "    \n"
   ]
  },
  {
   "cell_type": "code",
   "execution_count": null,
   "metadata": {},
   "outputs": [],
   "source": [
    "    # Compute confusion matrix\n",
    "cnf_matrix = confusion_matrix(y_test, yhat, labels=[1,0])\n",
    "np.set_printoptions(precision=2)\n",
    "\n",
    "print (classification_report(y_test, yhat))\n",
    "\n",
    "# Plot non-normalized confusion matrix\n",
    "\n",
    "plot_confusion_matrix(cnf_matrix, classes=['Hospital=1','Hospital=0'],normalize= False,  title='Confusion matrix')"
   ]
  },
  {
   "cell_type": "markdown",
   "metadata": {},
   "source": [
    "#  Counties display on a Per Capita Income basis"
   ]
  },
  {
   "cell_type": "code",
   "execution_count": null,
   "metadata": {},
   "outputs": [],
   "source": []
  },
  {
   "cell_type": "code",
   "execution_count": null,
   "metadata": {},
   "outputs": [],
   "source": [
    "tn_mapd = folium.Map(location=[tnlatitude,tnlongitude], zoom_start=7)\n",
    "# generate choropleth map using the population of each TN county\n",
    " \n",
    "tn_mapd.choropleth(\n",
    "    geo_data=tn_geo,\n",
    "    data=dfcounty,\n",
    "    columns=['County','Per_Cap_Income'],\n",
    "    key_on='feature.properties.NAME',\n",
    "    threshold_scale=[12000,17000,22000,30000],\n",
    "    fill_color='YlOrRd', \n",
    "    fill_opacity=0.7, \n",
    "    line_opacity=0.2,\n",
    "    \n",
    "    legend_name='TN County Per Capita Income'\n",
    ")\n",
    "for lat, lng, name, city in zip(dfhospital['Latitude'], dfhospital['Longitude'],dfhospital['HospitalName'],dfhospital['City']):\n",
    "    label = '{}, {}'.format(name, city)\n",
    "    label = folium.Popup(label, parse_html=True)\n",
    "    folium.CircleMarker(\n",
    "        [lat, lng],\n",
    "        radius=5,\n",
    "        popup=label,\n",
    "        color='blue',\n",
    "        fill=True,\n",
    "        fill_color='#3186cc',\n",
    "        fill_opacity=0.7,\n",
    "        parse_html=False).add_to(tn_mapd) \n",
    "\n",
    "# display map\n",
    "tn_mapd"
   ]
  },
  {
   "cell_type": "markdown",
   "metadata": {},
   "source": [
    "### As seen in the chart above, and the numbers below, we will need to group the couties by a population category."
   ]
  },
  {
   "cell_type": "code",
   "execution_count": null,
   "metadata": {},
   "outputs": [],
   "source": [
    "#Identify counties with out a hospital\n",
    "pdnone=df[df['HospitalName'].isnull()]"
   ]
  },
  {
   "cell_type": "code",
   "execution_count": null,
   "metadata": {},
   "outputs": [],
   "source": [
    "pdnone.describe()"
   ]
  },
  {
   "cell_type": "code",
   "execution_count": null,
   "metadata": {},
   "outputs": [],
   "source": [
    "#What is the best indicator of not having a hospital?\n",
    "viz = df[['Population','Per_Cap_Income','Median_House_Income','Households']]\n",
    "viz.hist()\n",
    "plt.show()"
   ]
  },
  {
   "cell_type": "code",
   "execution_count": null,
   "metadata": {},
   "outputs": [],
   "source": []
  },
  {
   "cell_type": "markdown",
   "metadata": {},
   "source": []
  },
  {
   "cell_type": "code",
   "execution_count": null,
   "metadata": {},
   "outputs": [],
   "source": [
    "tn_mapd = folium.Map(location=[tnlatitude,tnlongitude], zoom_start=7)\n",
    "# generate choropleth map using the population of each TN county\n",
    " \n",
    "tn_mapd.choropleth(\n",
    "    geo_data=tn_geo,\n",
    "    data=dfcounty,\n",
    "    columns=['County','Population'],\n",
    "    key_on='feature.properties.NAME',\n",
    "    threshold_scale=[15000,100000,200000,400000,1000000],\n",
    "    fill_color='YlOrRd', \n",
    "    fill_opacity=0.7, \n",
    "    line_opacity=0.2,\n",
    "    \n",
    "    legend_name='TN County Per Population Group'\n",
    ")\n",
    "for lat, lng, name, city in zip(dfhospital['Latitude'], dfhospital['Longitude'],dfhospital['HospitalName'],dfhospital['City']):\n",
    "    label = '{}, {}'.format(name, city)\n",
    "    label = folium.Popup(label, parse_html=True)\n",
    "    folium.CircleMarker(\n",
    "        [lat, lng],\n",
    "        radius=5,\n",
    "        popup=label,\n",
    "        color='blue',\n",
    "        fill=True,\n",
    "        fill_color='#3186cc',\n",
    "        fill_opacity=0.7,\n",
    "        parse_html=False).add_to(tn_mapd) \n",
    "\n",
    "# display map\n",
    "tn_mapd"
   ]
  },
  {
   "cell_type": "markdown",
   "metadata": {},
   "source": [
    "## Use a For loop and Folium to to put our neighborhoods on the map"
   ]
  },
  {
   "cell_type": "code",
   "execution_count": null,
   "metadata": {},
   "outputs": [],
   "source": [
    "dfzip =pd.DataFrame()\n",
    "dfzip=pd.read_excel('c:/Capstone/USA Cities.xlsx')\n",
    "dfzip.head()"
   ]
  },
  {
   "cell_type": "code",
   "execution_count": null,
   "metadata": {},
   "outputs": [],
   "source": [
    "#Only show TN cities\n",
    "\n",
    "dftncity=dfzip[dfzip['State']=='TN']\n",
    "#local = ['Algood','Baxter','Celina']\n",
    "#dftncity=dftncity[dftncity.City.isin(local)]"
   ]
  },
  {
   "cell_type": "code",
   "execution_count": null,
   "metadata": {},
   "outputs": [],
   "source": [
    "dftncity"
   ]
  },
  {
   "cell_type": "code",
   "execution_count": null,
   "metadata": {},
   "outputs": [],
   "source": [
    "#dftncity['City'] = dftncity['City'].str.upper()\n",
    "pdc = pd.DataFrame\n",
    "pdc = pd.merge(dftncity,dfhospital, on='City', how=\"left\")"
   ]
  },
  {
   "cell_type": "code",
   "execution_count": null,
   "metadata": {},
   "outputs": [],
   "source": [
    "pdc"
   ]
  },
  {
   "cell_type": "code",
   "execution_count": null,
   "metadata": {},
   "outputs": [],
   "source": [
    "#This could Drop rows that have a hospital, but to get average distances we should keep them\n",
    "#dfc = pdc[pdc['X'].isna()]\n",
    "dfc = pdc"
   ]
  },
  {
   "cell_type": "code",
   "execution_count": null,
   "metadata": {},
   "outputs": [],
   "source": [
    "# No duplcate cites are needed since distance difference should be only a few KMs.\n",
    "#dfc = dfc.drop_duplicates(subset=[\"City\"])\n",
    "dfc"
   ]
  },
  {
   "cell_type": "markdown",
   "metadata": {},
   "source": [
    "# Find the distance to the nearest hospital"
   ]
  },
  {
   "cell_type": "code",
   "execution_count": null,
   "metadata": {},
   "outputs": [],
   "source": [
    "#Create function to calculate distance\n",
    "from sklearn.metrics.pairwise import haversine_distances\n",
    "from math import radians\n",
    "dfhospital.head()"
   ]
  },
  {
   "cell_type": "code",
   "execution_count": null,
   "metadata": {},
   "outputs": [],
   "source": [
    "#Convert Lat and Long to float \n",
    "dfhospital['X'] = dfhospital['X'].apply(float)\n",
    "dfhospital['Y'] = dfhospital['Y'].apply(float)"
   ]
  },
  {
   "cell_type": "markdown",
   "metadata": {},
   "source": [
    "## Build function to calulate distance\n",
    "### uses miles"
   ]
  },
  {
   "cell_type": "code",
   "execution_count": null,
   "metadata": {},
   "outputs": [],
   "source": [
    "def haversine_vectorize(lon1, lat1, lon2, lat2):\n",
    "\n",
    "    lon1, lat1, lon2, lat2 = map(np.radians, [lon1, lat1, lon2, lat2])\n",
    "\n",
    "    newlon = lon2 - lon1\n",
    "    newlat = lat2 - lat1\n",
    "\n",
    "    haver_formula = np.sin(newlat/2.0)**2 + np.cos(lat1) * np.cos(lat2) * np.sin(newlon/2.0)**2\n",
    "\n",
    "    dist = 2 * np.arcsin(np.sqrt(haver_formula ))\n",
    "    km = 3958 * dist #6367 for distance in KM for miles use 3958\n",
    "    return km"
   ]
  },
  {
   "cell_type": "code",
   "execution_count": null,
   "metadata": {},
   "outputs": [],
   "source": [
    "# Loop through the city list and then loop through the hospital list to find the distance.\n",
    "dist_list = []\n",
    "\n",
    "\n",
    "for index, crow in dfc.iterrows():\n",
    "\n",
    "    for index2, chos in dfhospital.iterrows():\n",
    "        \n",
    "        result = haversine_vectorize(crow['Longitude_x'],crow['Latitude_x'],chos['X'],chos['Y'] )\n",
    "       \n",
    "        dict1 = {}\n",
    "        dict1.update({'CityLat': crow['Latitude_x'],'CityLng': crow['Longitude_x'],'CityCity': crow['City'],'HospitalLat': chos['Latitude'],'HospitalLng': chos['Longitude'],'HospitalCity': chos['City'],'Distance': result, 'Hospital':chos['HospitalName']})\n",
    "        dist_list.append(dict1)                           \n",
    "        \n",
    "dfdistance = pd.DataFrame(dist_list)                                   \n",
    "                    \n",
    "\n"
   ]
  },
  {
   "cell_type": "code",
   "execution_count": null,
   "metadata": {},
   "outputs": [],
   "source": [
    "dfdistance.head()"
   ]
  },
  {
   "cell_type": "code",
   "execution_count": null,
   "metadata": {},
   "outputs": [],
   "source": [
    "#dfdistance.set_index(['CityCity'],inplace=True)\n",
    "dfdistance.reset_index()\n"
   ]
  },
  {
   "cell_type": "code",
   "execution_count": null,
   "metadata": {},
   "outputs": [],
   "source": [
    "#We only need to see the closet hospital\n",
    "dfmin=pd.DataFrame\n",
    "dfmin=dfdistance.reset_index()\n",
    "dfm=dfmin.groupby('CityCity').Distance.idxmin()\n",
    "dfm=pd.DataFrame(dfm,columns=['Distance'])\n"
   ]
  },
  {
   "cell_type": "code",
   "execution_count": null,
   "metadata": {},
   "outputs": [],
   "source": [
    "dfcmin = pd.DataFrame()\n",
    "\n",
    "\n",
    "for index , x in dfm.iterrows():\n",
    "    row = x['Distance']\n",
    "    dfcmin = dfcmin.append(dfdistance.iloc[x])\n",
    "    \n",
    "    "
   ]
  },
  {
   "cell_type": "code",
   "execution_count": null,
   "metadata": {},
   "outputs": [],
   "source": [
    " dfmm = dfcmin.sort_values(['Distance'],ascending=False)\n",
    "dfmm.describe()"
   ]
  },
  {
   "cell_type": "markdown",
   "metadata": {},
   "source": [
    "# DO Not use for now\n",
    "### Use Foursquare to get distances to a hospital\n",
    "###  Foursquare returns venues based upon populatiry and not distance. Stupdi, but that's the way it is.\n",
    "\n",
    "df = pd.DataFrame()\n",
    "\n",
    "for index, row in dfc.iterrows():\n",
    "    geocode = row['geopoint'] \n",
    "    \n",
    "    \n",
    "    time.sleep(1)\n",
    "    # Used for FourSquare\n",
    "    address = get_nearest_hospital(row['City'],geocode)\n",
    "    \n",
    "        \n",
    "    print(row['City'] + '  -  ' + str(address['meta']['code']))\n",
    "    \n",
    "    if address['meta']['code']==200:\n",
    "        \n",
    "            #print (address)\n",
    "            venues = address['response']['venues']\n",
    "            df = df.append(pd.json_normalize(venues),ignore_index=True)\n",
    "            #df['referralId'].iloc[-1]=row['City']\n",
    "    else:\n",
    "            x = row['City']\n",
    "            x"
   ]
  },
  {
   "cell_type": "code",
   "execution_count": null,
   "metadata": {},
   "outputs": [],
   "source": [
    "df.head()\n"
   ]
  },
  {
   "cell_type": "code",
   "execution_count": null,
   "metadata": {},
   "outputs": [],
   "source": []
  }
 ],
 "metadata": {
  "kernelspec": {
   "display_name": "Python 3",
   "language": "python",
   "name": "python3"
  },
  "language_info": {
   "codemirror_mode": {
    "name": "ipython",
    "version": 3
   },
   "file_extension": ".py",
   "mimetype": "text/x-python",
   "name": "python",
   "nbconvert_exporter": "python",
   "pygments_lexer": "ipython3",
   "version": "3.8.3"
  }
 },
 "nbformat": 4,
 "nbformat_minor": 4
}
